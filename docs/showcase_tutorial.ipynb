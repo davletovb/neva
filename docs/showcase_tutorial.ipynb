{
 "cells": [
  {
   "cell_type": "markdown",
   "metadata": {},
   "source": [
    "# Neva showcase tutorial\n",
    "\n",
    "This notebook provides a guided tour of the larger multi-agent showcase\n",
    "scenarios. Run the cells to orchestrate complex coordination patterns using\n",
    "the standalone scripts introduced in the `examples/` directory."
   ]
  },
  {
   "cell_type": "markdown",
   "metadata": {},
   "source": [
    "## 1. Launch all showcase simulations\n",
    "\n",
    "The helper below chains together the eight themed demonstrations covering\n",
    "research, leadership, debates, community planning, NPC roleplay, tactical\n",
    "combat, productivity swarms, and customer support."
   ]
  },
  {
   "cell_type": "code",
   "execution_count": null,
   "metadata": {},
   "outputs": [],
   "source": [
    "!python examples/run_showcase.py"
   ]
  },
  {
    "cell_type": "markdown",
    "metadata": {},
    "source": [
      "## 2. Run a single vignette\n",
      "\n",
      "To dive deeper, execute an individual module. Replace the command below with\n",
      "any other script if you want to focus on a different scenario."
    ]
  },
  {
   "cell_type": "code",
   "execution_count": null,
   "metadata": {},
   "outputs": [],
   "source": [
    "!python examples/tool_research_demo.py"
   ]
  }
 ],
 "metadata": {
  "kernelspec": {
   "display_name": "Python 3",
   "language": "python",
   "name": "python3"
  },
  "language_info": {
   "name": "python",
   "version": "3.11"
  }
 },
 "nbformat": 4,
 "nbformat_minor": 5
}
