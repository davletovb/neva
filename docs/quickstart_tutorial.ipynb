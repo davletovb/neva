{
 "cells": [
  {
   "cell_type": "markdown",
   "metadata": {},
   "source": [
    "# Neva quickstart tutorial\n",
    "\n",
    "This notebook walks through the minimal steps for running the quickstart\n",
    "conversation example. Use it to familiarise yourself with the agent\n",
    "manager, environment loop, and observer metrics produced by the engine."
   ]
  },
  {
   "cell_type": "markdown",
   "metadata": {},
   "source": [
    "## 1. Install dependencies (optional)\n",
    "\n",
    "If you have not already installed the project's requirements, run the cell\n",
    "below. Comment it out if you are working in a pre-configured environment."
   ]
  },
  {
   "cell_type": "code",
   "execution_count": null,
   "metadata": {
    "tags": [
     "skip-execution"
    ]
   },
   "outputs": [],
   "source": [
    "# !pip install -r requirements.txt"
   ]
  },
  {
   "cell_type": "markdown",
   "metadata": {},
   "source": [
    "## 2. Run the quickstart script\n",
    "\n",
    "Execute the example to spawn two scripted agents inside a basic environment."
   ]
  },
  {
   "cell_type": "code",
   "execution_count": null,
   "metadata": {},
   "outputs": [],
   "source": [
    "!python examples/quickstart_conversation.py"
   ]
  },
  {
   "cell_type": "markdown",
   "metadata": {},
   "source": [
    "## 3. Inspect the generated metrics\n",
    "\n",
    "The quickstart writes a `quickstart_metrics.json` file in the project root.\n",
    "Load it to explore the collected observability signals."
   ]
  },
  {
   "cell_type": "code",
   "execution_count": null,
   "metadata": {},
   "outputs": [],
   "source": [
    "import json\n",
    "from pathlib import Path\n",
    "\n",
    "metrics_path = Path('quickstart_metrics.json')\n",
    "metrics = json.loads(metrics_path.read_text()) if metrics_path.exists() else {}\n",
    "metrics"
   ]
  }
 ],
 "metadata": {
  "kernelspec": {
   "display_name": "Python 3",
   "language": "python",
   "name": "python3"
  },
  "language_info": {
   "name": "python",
   "version": "3.11"
  }
 },
 "nbformat": 4,
 "nbformat_minor": 5
}
